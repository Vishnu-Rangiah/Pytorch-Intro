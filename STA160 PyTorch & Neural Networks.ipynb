{
 "cells": [
  {
   "cell_type": "markdown",
   "metadata": {},
   "source": [
    "# STA160 Data Science 2021 Spring\n",
    "\n",
    "## Part8- PyTorch & Neural Networks"
   ]
  },
  {
   "cell_type": "markdown",
   "metadata": {},
   "source": [
    "## Installation:\n",
    "\n",
    "The torchvision package consists of popular datasets, model architectures, and common image transformations for computer vision."
   ]
  },
  {
   "cell_type": "markdown",
   "metadata": {},
   "source": [
    "- Anaconda:\n",
    "\n",
    "conda install torchvision -c pytorch\n",
    "\n",
    "- pip:\n",
    "\n",
    "pip install torchvision"
   ]
  },
  {
   "cell_type": "markdown",
   "metadata": {},
   "source": [
    "\n",
    "What is PyTorch?\n",
    "================\n",
    "\n",
    "It’s a Python-based scientific computing package targeted at two sets of\n",
    "audiences:\n",
    "\n",
    "-  A replacement for NumPy to use the power of GPUs\n",
    "-  a deep learning research platform that provides maximum flexibility\n",
    "   and speed\n",
    "\n",
    "Getting Started\n",
    "---------------\n",
    "\n",
    "Tensors\n",
    "\n",
    "\n",
    "Tensors are similar to NumPy’s ndarrays, with the addition being that\n",
    "Tensors can also be used on a GPU to accelerate computing.\n",
    "\n"
   ]
  },
  {
   "cell_type": "code",
   "execution_count": 1,
   "metadata": {},
   "outputs": [],
   "source": [
    "import torch"
   ]
  },
  {
   "cell_type": "markdown",
   "metadata": {},
   "source": [
    "Construct a 5x3 matrix, uninitialized:\n",
    "\n"
   ]
  },
  {
   "cell_type": "code",
   "execution_count": 2,
   "metadata": {},
   "outputs": [
    {
     "name": "stdout",
     "output_type": "stream",
     "text": [
      "tensor([[1.1210e-44, 0.0000e+00, 0.0000e+00],\n",
      "        [0.0000e+00, 0.0000e+00, 0.0000e+00],\n",
      "        [0.0000e+00, 0.0000e+00, 0.0000e+00],\n",
      "        [0.0000e+00, 0.0000e+00, 0.0000e+00],\n",
      "        [0.0000e+00, 0.0000e+00, 0.0000e+00]])\n"
     ]
    }
   ],
   "source": [
    "x = torch.empty(5, 3)\n",
    "print(x)"
   ]
  },
  {
   "cell_type": "markdown",
   "metadata": {},
   "source": [
    "Construct a randomly initialized matrix:\n",
    "\n"
   ]
  },
  {
   "cell_type": "code",
   "execution_count": 3,
   "metadata": {},
   "outputs": [
    {
     "name": "stdout",
     "output_type": "stream",
     "text": [
      "tensor([[0.1673, 0.1964, 0.2310],\n",
      "        [0.1703, 0.7348, 0.7921],\n",
      "        [0.6451, 0.1753, 0.1679],\n",
      "        [0.2780, 0.4484, 0.1446],\n",
      "        [0.1021, 0.8632, 0.0920]])\n"
     ]
    }
   ],
   "source": [
    "x = torch.rand(5, 3)\n",
    "print(x)"
   ]
  },
  {
   "cell_type": "markdown",
   "metadata": {},
   "source": [
    "Construct a matrix filled zeros and of dtype long:\n",
    "\n"
   ]
  },
  {
   "cell_type": "code",
   "execution_count": 5,
   "metadata": {},
   "outputs": [
    {
     "name": "stdout",
     "output_type": "stream",
     "text": [
      "tensor([[0, 0, 0],\n",
      "        [0, 0, 0],\n",
      "        [0, 0, 0],\n",
      "        [0, 0, 0],\n",
      "        [0, 0, 0]])\n"
     ]
    }
   ],
   "source": [
    "x = torch.zeros(5, 3, dtype=torch.long)\n",
    "print(x)"
   ]
  },
  {
   "cell_type": "code",
   "execution_count": 6,
   "metadata": {},
   "outputs": [
    {
     "data": {
      "text/plain": [
       "tensor([[0., 0., 0.],\n",
       "        [0., 0., 0.]])"
      ]
     },
     "execution_count": 6,
     "metadata": {},
     "output_type": "execute_result"
    }
   ],
   "source": [
    "x = torch.empty(2, 3)\n",
    "torch.zeros_like(x)"
   ]
  },
  {
   "cell_type": "markdown",
   "metadata": {},
   "source": [
    "Construct a tensor directly from data:\n",
    "\n"
   ]
  },
  {
   "cell_type": "code",
   "execution_count": 6,
   "metadata": {},
   "outputs": [
    {
     "name": "stdout",
     "output_type": "stream",
     "text": [
      "tensor([5.5000, 3.0000])\n"
     ]
    }
   ],
   "source": [
    "x = torch.tensor([5.5, 3])\n",
    "print(x)"
   ]
  },
  {
   "cell_type": "markdown",
   "metadata": {},
   "source": [
    "or create a tensor based on an existing tensor. These methods\n",
    "will reuse properties of the input tensor, e.g. dtype, unless\n",
    "new values are provided by user\n",
    "\n"
   ]
  },
  {
   "cell_type": "code",
   "execution_count": 7,
   "metadata": {},
   "outputs": [
    {
     "name": "stdout",
     "output_type": "stream",
     "text": [
      "tensor([[1., 1., 1.],\n",
      "        [1., 1., 1.],\n",
      "        [1., 1., 1.],\n",
      "        [1., 1., 1.],\n",
      "        [1., 1., 1.]], dtype=torch.float64)\n",
      "tensor([[ 0.4553, -0.0965, -0.3293],\n",
      "        [-2.3772, -0.2698, -1.4993],\n",
      "        [ 0.9402,  0.3476, -0.8559],\n",
      "        [-0.3800,  0.4681, -0.8169],\n",
      "        [-1.1006, -1.7835,  0.2945]])\n"
     ]
    }
   ],
   "source": [
    "x = x.new_ones(5, 3, dtype=torch.double)      # new_* methods take in sizes\n",
    "print(x)\n",
    "\n",
    "x = torch.randn_like(x, dtype=torch.float)    # override dtype!\n",
    "print(x)                                      # result has the same size"
   ]
  },
  {
   "cell_type": "markdown",
   "metadata": {},
   "source": [
    "Get its size:\n",
    "\n",
    "Note: ``torch.Size`` is in fact a tuple, so it supports all tuple operations.\n"
   ]
  },
  {
   "cell_type": "code",
   "execution_count": 29,
   "metadata": {},
   "outputs": [
    {
     "name": "stdout",
     "output_type": "stream",
     "text": [
      "torch.Size([2, 3])\n"
     ]
    }
   ],
   "source": [
    "x = torch.rand(2, 3)\n",
    "print(x.size())"
   ]
  },
  {
   "cell_type": "markdown",
   "metadata": {},
   "source": [
    "Addition:"
   ]
  },
  {
   "cell_type": "code",
   "execution_count": 22,
   "metadata": {},
   "outputs": [
    {
     "name": "stdout",
     "output_type": "stream",
     "text": [
      "tensor([[0.7437, 0.9448, 0.8219],\n",
      "        [0.7497, 0.3197, 0.9661]])\n"
     ]
    }
   ],
   "source": [
    "y = torch.rand(2, 3)\n",
    "print(x + y)"
   ]
  },
  {
   "cell_type": "markdown",
   "metadata": {},
   "source": [
    "Addition: syntax 2"
   ]
  },
  {
   "cell_type": "code",
   "execution_count": 23,
   "metadata": {},
   "outputs": [
    {
     "name": "stdout",
     "output_type": "stream",
     "text": [
      "tensor([[0.7437, 0.9448, 0.8219],\n",
      "        [0.7497, 0.3197, 0.9661]])\n"
     ]
    }
   ],
   "source": [
    "print(torch.add(x, y))"
   ]
  },
  {
   "cell_type": "markdown",
   "metadata": {},
   "source": [
    "Addition: in-place\n",
    "\n",
    "Note: Any operation that mutates a tensor in-place is post-fixed with an ``_``. For example: ``x.copy_(y)``, ``x.t_()``, will change ``x``.\n"
   ]
  },
  {
   "cell_type": "code",
   "execution_count": 24,
   "metadata": {},
   "outputs": [
    {
     "name": "stdout",
     "output_type": "stream",
     "text": [
      "tensor([[0.7437, 0.9448, 0.8219],\n",
      "        [0.7497, 0.3197, 0.9661]])\n"
     ]
    }
   ],
   "source": [
    "# adds x to y\n",
    "y.add_(x)\n",
    "print(y)"
   ]
  },
  {
   "cell_type": "markdown",
   "metadata": {},
   "source": [
    "You can use standard NumPy-like indexing with all bells and whistles!"
   ]
  },
  {
   "cell_type": "code",
   "execution_count": 25,
   "metadata": {},
   "outputs": [
    {
     "name": "stdout",
     "output_type": "stream",
     "text": [
      "tensor([[0.1628, 0.6065, 0.8093],\n",
      "        [0.5617, 0.2061, 0.0247]])\n",
      "tensor([0.6065, 0.2061])\n"
     ]
    }
   ],
   "source": [
    "print(x)\n",
    "print(x[:, 1])"
   ]
  },
  {
   "cell_type": "markdown",
   "metadata": {},
   "source": [
    "Resizing: If you want to resize/reshape tensor, you can use ``torch.view``:\n",
    "\n"
   ]
  },
  {
   "cell_type": "code",
   "execution_count": 39,
   "metadata": {},
   "outputs": [
    {
     "name": "stdout",
     "output_type": "stream",
     "text": [
      "torch.Size([4, 4]) torch.Size([16]) torch.Size([2, 8])\n"
     ]
    }
   ],
   "source": [
    "x = torch.randn(4, 4)\n",
    "y = x.view(16)\n",
    "z = x.view(-1, 8)  # the size -1 is inferred from other dimensions\n",
    "print(x.size(), y.size(), z.size())"
   ]
  },
  {
   "cell_type": "code",
   "execution_count": 27,
   "metadata": {},
   "outputs": [
    {
     "name": "stdout",
     "output_type": "stream",
     "text": [
      "tensor([[-0.6368, -1.8195,  2.6039, -0.2272],\n",
      "        [ 1.3554, -1.2306,  1.0746,  2.0638],\n",
      "        [ 0.8407, -0.9725, -1.5006,  0.5728],\n",
      "        [ 0.9492,  0.0755,  0.2407, -0.2885]])\n",
      "tensor([-0.6368, -1.8195,  2.6039, -0.2272,  1.3554, -1.2306,  1.0746,  2.0638,\n",
      "         0.8407, -0.9725, -1.5006,  0.5728,  0.9492,  0.0755,  0.2407, -0.2885])\n",
      "tensor([[-0.6368, -1.8195,  2.6039, -0.2272,  1.3554, -1.2306,  1.0746,  2.0638],\n",
      "        [ 0.8407, -0.9725, -1.5006,  0.5728,  0.9492,  0.0755,  0.2407, -0.2885]])\n"
     ]
    }
   ],
   "source": [
    "# vectorize it row by row\n",
    "print(x)\n",
    "print(y)\n",
    "print(z)"
   ]
  },
  {
   "cell_type": "markdown",
   "metadata": {},
   "source": [
    "If you have a one element tensor, use ``.item()`` to get the value as a\n",
    "Python number\n",
    "\n"
   ]
  },
  {
   "cell_type": "code",
   "execution_count": 28,
   "metadata": {},
   "outputs": [
    {
     "name": "stdout",
     "output_type": "stream",
     "text": [
      "tensor([-0.7578])\n",
      "-0.7578176259994507\n"
     ]
    }
   ],
   "source": [
    "x = torch.randn(1)\n",
    "print(x)\n",
    "print(x.item())  # only one element tensors can be converted to Python scalars"
   ]
  },
  {
   "cell_type": "markdown",
   "metadata": {},
   "source": [
    "**Read later:**\n",
    "\n",
    "\n",
    "  100+ Tensor operations, including transposing, indexing, slicing,\n",
    "  mathematical operations, linear algebra, random numbers, etc.,\n",
    "  are described\n",
    "  here https://pytorch.org/docs/torch."
   ]
  },
  {
   "cell_type": "code",
   "execution_count": 63,
   "metadata": {},
   "outputs": [
    {
     "name": "stdout",
     "output_type": "stream",
     "text": [
      "6\n",
      "16\n"
     ]
    }
   ],
   "source": [
    "# Returns the total number of elements in the input tensor.\n",
    "a = torch.randn(1, 2, 3)\n",
    "print(torch.numel(a))\n",
    "a = torch.zeros(4,4)\n",
    "print(torch.numel(a))"
   ]
  },
  {
   "cell_type": "code",
   "execution_count": 88,
   "metadata": {},
   "outputs": [
    {
     "data": {
      "text/plain": [
       "torch.Size([0])"
      ]
     },
     "execution_count": 88,
     "metadata": {},
     "output_type": "execute_result"
    }
   ],
   "source": [
    "torch.tensor([]).size()"
   ]
  },
  {
   "cell_type": "code",
   "execution_count": 91,
   "metadata": {},
   "outputs": [
    {
     "data": {
      "text/plain": [
       "torch.Size([1])"
      ]
     },
     "execution_count": 91,
     "metadata": {},
     "output_type": "execute_result"
    }
   ],
   "source": [
    "torch.tensor([2]).size()"
   ]
  },
  {
   "cell_type": "code",
   "execution_count": 93,
   "metadata": {},
   "outputs": [
    {
     "data": {
      "text/plain": [
       "torch.Size([2, 2])"
      ]
     },
     "execution_count": 93,
     "metadata": {},
     "output_type": "execute_result"
    }
   ],
   "source": [
    "torch.tensor([[2,3],[4,5]]).size()"
   ]
  },
  {
   "cell_type": "code",
   "execution_count": 103,
   "metadata": {},
   "outputs": [
    {
     "data": {
      "text/plain": [
       "tensor([[1., 0., 0.],\n",
       "        [0., 1., 0.],\n",
       "        [0., 0., 1.]])"
      ]
     },
     "execution_count": 103,
     "metadata": {},
     "output_type": "execute_result"
    }
   ],
   "source": [
    "torch.eye(3)"
   ]
  },
  {
   "cell_type": "code",
   "execution_count": 104,
   "metadata": {},
   "outputs": [
    {
     "data": {
      "text/plain": [
       "tensor([[3.1416, 3.1416, 3.1416],\n",
       "        [3.1416, 3.1416, 3.1416]])"
      ]
     },
     "execution_count": 104,
     "metadata": {},
     "output_type": "execute_result"
    }
   ],
   "source": [
    "torch.full((2, 3), 3.141592)"
   ]
  },
  {
   "cell_type": "code",
   "execution_count": 108,
   "metadata": {},
   "outputs": [
    {
     "name": "stdout",
     "output_type": "stream",
     "text": [
      "tensor([[-0.0260, -0.7049],\n",
      "        [-0.3855,  0.1400]])\n",
      "tensor([[-0.0260, -0.7049],\n",
      "        [-0.3855,  0.1400],\n",
      "        [-0.0260, -0.7049],\n",
      "        [-0.3855,  0.1400],\n",
      "        [-0.0260, -0.7049],\n",
      "        [-0.3855,  0.1400]])\n",
      "tensor([[-0.0260, -0.7049, -0.0260, -0.7049, -0.0260, -0.7049],\n",
      "        [-0.3855,  0.1400, -0.3855,  0.1400, -0.3855,  0.1400]])\n"
     ]
    }
   ],
   "source": [
    "x = torch.randn(2, 2)\n",
    "print(x)\n",
    "\n",
    "print(torch.cat((x, x, x), 0)) # concatenate on the row side\n",
    "\n",
    "print(torch.cat((x, x, x), 1)) # concatenate on the column side"
   ]
  },
  {
   "cell_type": "code",
   "execution_count": 111,
   "metadata": {},
   "outputs": [
    {
     "name": "stdout",
     "output_type": "stream",
     "text": [
      "tensor([[1, 2, 3],\n",
      "        [7, 8, 9]])\n",
      "tensor([[1, 3],\n",
      "        [4, 6],\n",
      "        [7, 9]])\n"
     ]
    }
   ],
   "source": [
    "x = torch.tensor([[1, 2, 3], [4, 5, 6], [7, 8, 9]])\n",
    "indices = torch.tensor([0, 2])\n",
    "print(torch.index_select(x, 0, indices)) # extract 0, 2 rows\n",
    "print(torch.index_select(x, 1, indices)) # extract 0, 2 columns"
   ]
  },
  {
   "cell_type": "code",
   "execution_count": 13,
   "metadata": {},
   "outputs": [
    {
     "name": "stdout",
     "output_type": "stream",
     "text": [
      "tensor([[False, False, False],\n",
      "        [False,  True,  True],\n",
      "        [ True,  True,  True]])\n",
      "tensor([5, 6, 7, 8, 9])\n"
     ]
    }
   ],
   "source": [
    "x = torch.tensor([[1, 2, 3], [4, 5, 6], [7, 8, 9]])\n",
    "mask = x.ge(5)\n",
    "print(mask)\n",
    "print(torch.masked_select(x, mask))"
   ]
  },
  {
   "cell_type": "code",
   "execution_count": 14,
   "metadata": {},
   "outputs": [
    {
     "data": {
      "text/plain": [
       "tensor([5, 6, 7, 8, 9])"
      ]
     },
     "execution_count": 14,
     "metadata": {},
     "output_type": "execute_result"
    }
   ],
   "source": [
    "x[x>=5]"
   ]
  },
  {
   "cell_type": "code",
   "execution_count": 119,
   "metadata": {},
   "outputs": [
    {
     "name": "stdout",
     "output_type": "stream",
     "text": [
      "tensor([[ 1.2921, -0.0431],\n",
      "        [-1.0000, -0.0130],\n",
      "        [-0.1106,  1.3366]])\n",
      "tensor([[1.2921, 1.0000],\n",
      "        [1.0000, 1.0000],\n",
      "        [1.0000, 1.3366]])\n"
     ]
    }
   ],
   "source": [
    "# if cond 1, return x; otherwise, return y\n",
    "x = torch.randn(3, 2)\n",
    "y = torch.ones(3, 2)\n",
    "print(x)\n",
    "print(torch.where(x > 0, x, y))"
   ]
  },
  {
   "cell_type": "code",
   "execution_count": 132,
   "metadata": {},
   "outputs": [
    {
     "data": {
      "text/plain": [
       "tensor([ 1.0256,  1.1244,  5.9637, -0.5277, -6.5691])"
      ]
     },
     "execution_count": 132,
     "metadata": {},
     "output_type": "execute_result"
    }
   ],
   "source": [
    "torch.normal(mean=0.5, std=torch.tensor([1.,2.,3.,4.,5.]))"
   ]
  },
  {
   "cell_type": "code",
   "execution_count": 134,
   "metadata": {},
   "outputs": [
    {
     "data": {
      "text/plain": [
       "tensor([[ 1.1213, -0.7835,  0.3443,  1.9041],\n",
       "        [-0.6104, -1.6461,  0.7373,  0.1945]])"
      ]
     },
     "execution_count": 134,
     "metadata": {},
     "output_type": "execute_result"
    }
   ],
   "source": [
    "torch.normal(0, 1, size=(2, 4))"
   ]
  },
  {
   "cell_type": "markdown",
   "metadata": {},
   "source": [
    "NumPy Bridge\n",
    "------------\n",
    "\n",
    "Converting a Torch Tensor to a NumPy array and vice versa is a breeze.\n",
    "\n",
    "The Torch Tensor and NumPy array will share their underlying memory\n",
    "locations (if the Torch Tensor is on CPU), and changing one will change\n",
    "the other.\n",
    "\n",
    "Converting a Torch Tensor to a NumPy Array:\n",
    "\n"
   ]
  },
  {
   "cell_type": "code",
   "execution_count": 53,
   "metadata": {},
   "outputs": [
    {
     "name": "stdout",
     "output_type": "stream",
     "text": [
      "tensor([1., 1., 1., 1., 1.])\n"
     ]
    }
   ],
   "source": [
    "a = torch.ones(5)\n",
    "print(a)"
   ]
  },
  {
   "cell_type": "code",
   "execution_count": 54,
   "metadata": {},
   "outputs": [
    {
     "name": "stdout",
     "output_type": "stream",
     "text": [
      "[1. 1. 1. 1. 1.]\n"
     ]
    }
   ],
   "source": [
    "b = a.numpy()\n",
    "print(b)"
   ]
  },
  {
   "cell_type": "markdown",
   "metadata": {},
   "source": [
    "See how the numpy array changed in value.\n",
    "\n"
   ]
  },
  {
   "cell_type": "code",
   "execution_count": 55,
   "metadata": {},
   "outputs": [
    {
     "name": "stdout",
     "output_type": "stream",
     "text": [
      "tensor([2., 2., 2., 2., 2.])\n",
      "[2. 2. 2. 2. 2.]\n"
     ]
    }
   ],
   "source": [
    "a.add_(1)\n",
    "print(a)\n",
    "print(b)"
   ]
  },
  {
   "cell_type": "markdown",
   "metadata": {},
   "source": [
    "Converting NumPy Array to Torch Tensor:\n",
    "\n",
    "See how changing the np array changed the Torch Tensor automatically\n",
    "\n"
   ]
  },
  {
   "cell_type": "code",
   "execution_count": 56,
   "metadata": {},
   "outputs": [
    {
     "name": "stdout",
     "output_type": "stream",
     "text": [
      "[2. 2. 2. 2. 2.]\n",
      "tensor([2., 2., 2., 2., 2.], dtype=torch.float64)\n"
     ]
    }
   ],
   "source": [
    "import numpy as np\n",
    "a = np.ones(5)\n",
    "b = torch.from_numpy(a)\n",
    "np.add(a, 1, out=a)\n",
    "print(a)\n",
    "print(b)"
   ]
  },
  {
   "cell_type": "markdown",
   "metadata": {},
   "source": [
    "All the Tensors on the CPU except a CharTensor support converting to\n",
    "NumPy and back.\n",
    "\n",
    "CUDA Tensors\n",
    "------------\n",
    "\n",
    "Tensors can be moved onto any device using the ``.to`` method.\n",
    "\n"
   ]
  },
  {
   "cell_type": "code",
   "execution_count": null,
   "metadata": {},
   "outputs": [],
   "source": [
    "# let us run this cell only if CUDA is available\n",
    "# We will use ``torch.device`` objects to move tensors in and out of GPU\n",
    "if torch.cuda.is_available():\n",
    "    device = torch.device(\"cuda\")          # a CUDA device object\n",
    "    y = torch.ones_like(x, device=device)  # directly create a tensor on GPU\n",
    "    x = x.to(device)                       # or just use strings ``.to(\"cuda\")``\n",
    "    z = x + y\n",
    "    print(z)\n",
    "    print(z.to(\"cpu\", torch.double))       # ``.to`` can also change dtype together!"
   ]
  },
  {
   "cell_type": "markdown",
   "metadata": {},
   "source": [
    "Autograd: Automatic Differentiation\n",
    "===================================\n",
    "\n",
    "Central to all neural networks in PyTorch is the ``autograd`` package.\n",
    "Let’s first briefly visit this, and we will then go to training our\n",
    "first neural network.\n",
    "\n",
    "\n",
    "The ``autograd`` package provides automatic differentiation for all operations\n",
    "on Tensors. It is a define-by-run framework, which means that your backprop is\n",
    "defined by how your code is run, and that every single iteration can be\n",
    "different.\n",
    "\n",
    "Let us see this in more simple terms with some examples.\n",
    "\n",
    "Tensor\n",
    "--------\n",
    "\n",
    "``torch.Tensor`` is the central class of the package. If you set its attribute\n",
    "``.requires_grad`` as ``True``, it starts to track all operations on it. When\n",
    "you finish your computation you can call ``.backward()`` and have all the\n",
    "gradients computed automatically. The gradient for this tensor will be\n",
    "accumulated into ``.grad`` attribute.\n",
    "\n",
    "To stop a tensor from tracking history, you can call ``.detach()`` to detach\n",
    "it from the computation history, and to prevent future computation from being\n",
    "tracked.\n",
    "\n",
    "To prevent tracking history (and using memory), you can also wrap the code block\n",
    "in ``with torch.no_grad():``. This can be particularly helpful when evaluating a\n",
    "model because the model may have trainable parameters with\n",
    "``requires_grad=True``, but for which we don't need the gradients.\n",
    "\n",
    "\n",
    "If you want to compute the derivatives, you can call ``.backward()`` on\n",
    "a ``Tensor``. If ``Tensor`` is a scalar (i.e. it holds a one element\n",
    "data), you don’t need to specify any arguments to ``backward()``,\n",
    "however if it has more elements, you need to specify a ``gradient``\n",
    "argument that is a tensor of matching shape.\n",
    "\n",
    "\n"
   ]
  },
  {
   "cell_type": "code",
   "execution_count": 5,
   "metadata": {},
   "outputs": [
    {
     "name": "stdout",
     "output_type": "stream",
     "text": [
      "tensor([[1., 1.],\n",
      "        [1., 1.]], requires_grad=True)\n"
     ]
    }
   ],
   "source": [
    "# Create a tensor and set requires_grad=True to track computation with it\n",
    "x = torch.ones(2, 2, requires_grad=True)\n",
    "print(x)"
   ]
  },
  {
   "cell_type": "code",
   "execution_count": 6,
   "metadata": {},
   "outputs": [
    {
     "name": "stdout",
     "output_type": "stream",
     "text": [
      "tensor([[3., 3.],\n",
      "        [3., 3.]], grad_fn=<AddBackward0>)\n"
     ]
    }
   ],
   "source": [
    "y = x + 2\n",
    "print(y)"
   ]
  },
  {
   "cell_type": "code",
   "execution_count": 7,
   "metadata": {},
   "outputs": [
    {
     "name": "stdout",
     "output_type": "stream",
     "text": [
      "tensor([[27., 27.],\n",
      "        [27., 27.]], grad_fn=<MulBackward0>)\n"
     ]
    }
   ],
   "source": [
    "z = y * y * 3\n",
    "print(z)"
   ]
  },
  {
   "cell_type": "code",
   "execution_count": 8,
   "metadata": {},
   "outputs": [
    {
     "name": "stdout",
     "output_type": "stream",
     "text": [
      "tensor(27., grad_fn=<MeanBackward0>)\n"
     ]
    }
   ],
   "source": [
    "out = z.mean()\n",
    "print(out)"
   ]
  },
  {
   "cell_type": "markdown",
   "metadata": {},
   "source": [
    "Let's backprop now. You should have got a matrix of ``4.5``. Let’s call the ``out`` *Tensor* “$o$”.\n",
    "We have that $o = \\frac{1}{4}\\sum_i z_i$,\n",
    "$z_i = 3(x_i+2)^2$ and $z_i\\bigr\\rvert_{x_i=1} = 27$.\n",
    "Therefore,\n",
    "$\\frac{\\partial o}{\\partial x_i} = \\frac{3}{2}(x_i+2)$, hence\n",
    "$\\frac{\\partial o}{\\partial x_i}\\bigr\\rvert_{x_i=1} = \\frac{9}{2} = 4.5$.\n",
    "\n",
    "\n"
   ]
  },
  {
   "cell_type": "code",
   "execution_count": 9,
   "metadata": {},
   "outputs": [],
   "source": [
    "out.backward()"
   ]
  },
  {
   "cell_type": "markdown",
   "metadata": {},
   "source": [
    "Print gradients d(out)/dx"
   ]
  },
  {
   "cell_type": "code",
   "execution_count": 10,
   "metadata": {},
   "outputs": [
    {
     "name": "stdout",
     "output_type": "stream",
     "text": [
      "tensor([[4.5000, 4.5000],\n",
      "        [4.5000, 4.5000]])\n"
     ]
    }
   ],
   "source": [
    "print(x.grad)"
   ]
  },
  {
   "cell_type": "markdown",
   "metadata": {},
   "source": [
    "## Artificial Neural Networks\n",
    "\n",
    "Artificial neural networks (ANN) is a computing system vaguely inspired by the biological neural networks that constitute animal brains. Such systems \"learn\" to perform tasks by considering examples, generally without being programmed with task-specific rules. \n",
    "\n",
    "ANNs are composed of artificial neurons which retain the biological concept of neurons, which receive input, combine the input with their internal state (activation) and an optional threshold using an activation function, and produce output using an output function. The initial inputs are external data, such as images and documents. The ultimate outputs accomplish the task, such as recognizing an object in an image. The important characteristic of the activation function is that it provides a smooth, differentiable transition as input values change, i.e. a small change in input produces a small change in output."
   ]
  },
  {
   "cell_type": "code",
   "execution_count": 89,
   "metadata": {},
   "outputs": [
    {
     "data": {
      "image/png": "[encoded data removed]",
      "text/plain": [
       "<IPython.core.display.Image object>"
      ]
     },
     "execution_count": 89,
     "metadata": {},
     "output_type": "execute_result"
    }
   ],
   "source": [
    "from IPython.display import Image\n",
    "Image(\"Whiteboard.png\")"
   ]
  },
  {
   "cell_type": "markdown",
   "metadata": {},
   "source": [
    "## Backpropogation\n",
    "\n",
    "http://neuralnetworksanddeeplearning.com/chap2.html\n",
    "\n",
    "The weight $w^l$ for the connection from the $(l−1)$th layer to the $l$th layer, $b^l$ for the bias of the $l$th layer, and $a^l$ for the activation of the $l$th layer. \n",
    "\n",
    "The activation $a^l$ in the $l$th layer is related to the activations in the $(l−1)$th layer by the equation.\n",
    "\n",
    "$$z^l=a^{l-1} w^l  + b^l$$\n",
    "\n",
    "$$a^l=\\sigma(z^l)$$\n",
    "\n",
    "for $l=1, 2, 3, ..., L$.\n",
    "\n",
    "The cost function for the final layer: (take regression for example)\n",
    "\n",
    "$$C= \\frac{1}{N} \\sum_x ||y(x)-a^L(x)||^2$$\n",
    "\n",
    "Want to calculate $\\frac{\\partial C}{\\partial w^l}$ and $\\frac{\\partial C}{\\partial b^l}$ and employ gradient descent."
   ]
  },
  {
   "cell_type": "markdown",
   "metadata": {},
   "source": [
    "## Example I: regression for simulated data\n",
    "\n",
    "Consider a two-layer neural network,\n",
    "$$ \\hat{y} =  \\sigma( x' w_1 + b_1 ) w_2 + b_2 $$\n",
    "\n",
    "For mini-batch samples:\n",
    "\n",
    "$$ \\hat{Y} = \\sigma( X W_1 + B_1 ) W_2 + B_2 $$\n",
    "\n",
    "$X$ is a $N \\times D_{in}$ data matrix, $W_1$ is a $D_{in} \\times H$ weight matrix, $W_2$ is a $H \\times D_{out}$ weight matrix, and $B_1$ and $B_2$ are two bias matrices.\n",
    "\n",
    "$\\sigma(x)=max(x,0)$ it is called RELU.\n",
    "\n",
    "$N$ can be the size of a mini-batch sample.\n",
    "\n",
    "So, input $N \\times D_{in}$ data and we'll get $N \\times D_{out}$ $\\hat{Y}$ out.\n",
    "\n",
    "The cost function:\n",
    "\n",
    "$$C= \\frac{1}{N} ||Y- \\hat{Y}||_F^2 = \\frac{1}{N} \\sum_{i=1}^N ||y_i- \\hat{y}_i||^2$$\n"
   ]
  },
  {
   "cell_type": "markdown",
   "metadata": {},
   "source": [
    "## Numpy:\n",
    "Before introducing PyTorch, we will first implement the network using numpy. Numpy provides an n-dimensional array object, and many functions for manipulating these arrays. Numpy is a generic framework for scientific computing; it does not know anything about computation graphs, or deep learning, or gradients. However we can easily use numpy to fit a two-layer network to random data by manually implementing the forward and backward passes through the network using numpy operations:"
   ]
  },
  {
   "cell_type": "code",
   "execution_count": 3,
   "metadata": {},
   "outputs": [
    {
     "name": "stdout",
     "output_type": "stream",
     "text": [
      "99 1131.9074677221054\n",
      "199 11.015091708102707\n",
      "299 0.19728041766309184\n",
      "399 0.004700428573007171\n",
      "499 0.00013580676363734802\n"
     ]
    }
   ],
   "source": [
    "import numpy as np\n",
    "# N is batch size; D_in is input dimension;\n",
    "# H is hidden dimension; D_out is output dimension.\n",
    "N, D_in, H, D_out = 64, 1000, 100, 10\n",
    "\n",
    "# Create random input and output data\n",
    "x = np.random.randn(N, D_in)\n",
    "y = np.random.randn(N, D_out)\n",
    "\n",
    "\n",
    "##################################################\n",
    "# Randomly initialize weights\n",
    "w1 = np.random.randn(D_in, H)\n",
    "w2 = np.random.randn(H, D_out)\n",
    "\n",
    "learning_rate = 1e-6\n",
    "for t in range(500):\n",
    "    # 1.Forward pass: compute predicted y\n",
    "    h = x.dot(w1)\n",
    "    #Compare two arrays and returns a new array containing the element-wise maxima.\n",
    "    h_relu = np.maximum(h, 0)\n",
    "    y_pred = h_relu.dot(w2)\n",
    "\n",
    "    # Compute and print loss\n",
    "    loss = np.square(y_pred - y).sum()\n",
    "    if t % 100 == 99:\n",
    "        print(t, loss)\n",
    "\n",
    "    # 2.Backprop to compute gradients of w1 and w2 with respect to loss\n",
    "    grad_y_pred = 2.0 * (y_pred - y)\n",
    "    grad_w2 = h_relu.T.dot(grad_y_pred)\n",
    "    grad_h_relu = grad_y_pred.dot(w2.T)\n",
    "    grad_h = grad_h_relu.copy()\n",
    "    grad_h[h < 0] = 0\n",
    "    grad_w1 = x.T.dot(grad_h)\n",
    "\n",
    "    # 3.Update weights\n",
    "    w1 -= learning_rate * grad_w1\n",
    "    w2 -= learning_rate * grad_w2"
   ]
  },
  {
   "cell_type": "markdown",
   "metadata": {},
   "source": [
    "## PyTorch: Tensors and autograd\n",
    "\n",
    "Thankfully, we can use automatic differentiation to automate the computation of backward passes in neural networks. The autograd package in PyTorch provides exactly this functionality. When using autograd, the forward pass of your network will define a computational graph; nodes in the graph will be Tensors, and edges will be functions that produce output Tensors from input Tensors. Backpropagating through this graph then allows you to easily compute gradients."
   ]
  },
  {
   "cell_type": "code",
   "execution_count": null,
   "metadata": {},
   "outputs": [],
   "source": [
    "dtype = torch.float\n",
    "device = torch.device(\"cpu\")\n",
    "# device = torch.device(\"cuda:0\") # Uncomment this to run on GPU\n",
    "\n",
    "# N is batch size; D_in is input dimension;\n",
    "# H is hidden dimension; D_out is output dimension.\n",
    "N, D_in, H, D_out = 64, 1000, 100, 10\n",
    "\n",
    "# Create random Tensors to hold input and outputs.\n",
    "# Setting requires_grad=False indicates that we do not need to compute gradients\n",
    "# with respect to these Tensors during the backward pass.\n",
    "x = torch.randn(N, D_in, device=device, dtype=dtype)\n",
    "y = torch.randn(N, D_out, device=device, dtype=dtype)\n",
    "\n",
    "\n",
    "##########################################################\n",
    "# Create random Tensors for weights.\n",
    "# Setting requires_grad=True indicates that we want to compute gradients with\n",
    "# respect to these Tensors during the backward pass.\n",
    "w1 = torch.randn(D_in, H, device=device, dtype=dtype, requires_grad=True)\n",
    "w2 = torch.randn(H, D_out, device=device, dtype=dtype, requires_grad=True)\n",
    "\n",
    "learning_rate = 1e-6\n",
    "for t in range(500):\n",
    "    # Forward pass: compute predicted y using operations on Tensors; these\n",
    "    # are exactly the same operations we used to compute the forward pass using\n",
    "    # Tensors, but we do not need to keep references to intermediate values since\n",
    "    # we are not implementing the backward pass by hand.\n",
    "    y_pred = x.mm(w1).clamp(min=0).mm(w2)\n",
    "\n",
    "    # Compute and print loss using operations on Tensors.\n",
    "    # Now loss is a Tensor of shape (1,)\n",
    "    # loss.item() gets the scalar value held in the loss.\n",
    "    loss = (y_pred - y).pow(2).sum()\n",
    "    if t % 100 == 99:\n",
    "        print(t, loss.item())\n",
    "\n",
    "    # Use autograd to compute the backward pass. This call will compute the\n",
    "    # gradient of loss with respect to all Tensors with requires_grad=True.\n",
    "    # After this call w1.grad and w2.grad will be Tensors holding the gradient\n",
    "    # of the loss with respect to w1 and w2 respectively.\n",
    "    loss.backward()\n",
    "\n",
    "    # Manually update weights using gradient descent. Wrap in torch.no_grad()\n",
    "    # because weights have requires_grad=True, but we don't need to track this\n",
    "    # in autograd.\n",
    "    # An alternative way is to operate on weight.data and weight.grad.data.\n",
    "    # Recall that tensor.data gives a tensor that shares the storage with\n",
    "    # tensor, but doesn't track history.\n",
    "    # You can also use torch.optim.SGD to achieve this.\n",
    "    with torch.no_grad():\n",
    "        w1 -= learning_rate * w1.grad\n",
    "        w2 -= learning_rate * w2.grad\n",
    "\n",
    "        # Manually zero the gradients after updating weights\n",
    "        w1.grad.zero_()\n",
    "        w2.grad.zero_()"
   ]
  },
  {
   "cell_type": "markdown",
   "metadata": {},
   "source": [
    "## PyTorch: nn\n",
    "\n",
    "Computational graphs and autograd are a very powerful paradigm for defining complex operators and automatically taking derivatives; however for large neural networks raw autograd can be a bit too low-level.\n",
    "\n",
    "When building neural networks we frequently think of arranging the computation into layers, some of which have learnable parameters which will be optimized during learning.\n",
    "\n",
    "In PyTorch, the nn package defines a set of Modules, which are roughly equivalent to neural network layers. A Module receives input Tensors and computes output Tensors, but may also hold internal state such as Tensors containing learnable parameters. The nn package also defines a set of useful loss functions that are commonly used when training neural networks.\n",
    "\n",
    "see Torch.nn: https://pytorch.org/docs/stable/nn.html#"
   ]
  },
  {
   "cell_type": "code",
   "execution_count": 54,
   "metadata": {},
   "outputs": [
    {
     "data": {
      "text/plain": [
       "torch.Size([64, 50])"
      ]
     },
     "execution_count": 54,
     "metadata": {},
     "output_type": "execute_result"
    }
   ],
   "source": [
    "input = torch.randn(64, 10)\n",
    "# linear layer\n",
    "m = torch.nn.Linear(10, 50)\n",
    "#m.requires_grad_(requires_grad=False)  # Change if you don't want autograd record operations on parameters\n",
    "output = m(input)\n",
    "output.size()"
   ]
  },
  {
   "cell_type": "code",
   "execution_count": 61,
   "metadata": {},
   "outputs": [
    {
     "data": {
      "text/plain": [
       "torch.Size([50, 10])"
      ]
     },
     "execution_count": 61,
     "metadata": {},
     "output_type": "execute_result"
    }
   ],
   "source": [
    "m.weight.size()"
   ]
  },
  {
   "cell_type": "code",
   "execution_count": 62,
   "metadata": {},
   "outputs": [
    {
     "data": {
      "text/plain": [
       "torch.Size([50])"
      ]
     },
     "execution_count": 62,
     "metadata": {},
     "output_type": "execute_result"
    }
   ],
   "source": [
    "m.bias.size()"
   ]
  },
  {
   "cell_type": "code",
   "execution_count": 60,
   "metadata": {},
   "outputs": [
    {
     "data": {
      "text/plain": [
       "[torch.Size([50, 10]), torch.Size([50])]"
      ]
     },
     "execution_count": 60,
     "metadata": {},
     "output_type": "execute_result"
    }
   ],
   "source": [
    "# weight and bias are recorded in .parameters()\n",
    "[p.size() for p in m.parameters()]"
   ]
  },
  {
   "cell_type": "code",
   "execution_count": 63,
   "metadata": {},
   "outputs": [
    {
     "name": "stdout",
     "output_type": "stream",
     "text": [
      "99 2.5902621746063232\n",
      "199 0.04241018369793892\n",
      "299 0.0012822261778637767\n",
      "399 5.7179197028744966e-05\n",
      "499 3.495222927085706e-06\n"
     ]
    }
   ],
   "source": [
    "# N is batch size; D_in is input dimension;\n",
    "# H is hidden dimension; D_out is output dimension.\n",
    "N, D_in, H, D_out = 64, 1000, 100, 10\n",
    "\n",
    "# Create random Tensors to hold inputs and outputs\n",
    "x = torch.randn(N, D_in)\n",
    "y = torch.randn(N, D_out)\n",
    "\n",
    "# Use the nn package to define our model as a sequence of layers. nn.Sequential\n",
    "# is a Module which contains other Modules, and applies them in sequence to\n",
    "# produce its output. Each Linear Module computes output from input using a\n",
    "# linear function, and holds internal Tensors for its weight and bias.\n",
    "model = torch.nn.Sequential(\n",
    "    torch.nn.Linear(D_in, H),\n",
    "    torch.nn.ReLU(),\n",
    "    torch.nn.Linear(H, D_out)\n",
    ")\n",
    "\n",
    "# The nn package also contains definitions of popular loss functions; in this\n",
    "# case we will use Mean Squared Error (MSE) as our loss function.\n",
    "loss_fn = torch.nn.MSELoss(reduction='sum')\n",
    "\n",
    "learning_rate = 1e-4\n",
    "for t in range(500):\n",
    "    # Forward pass: compute predicted y by passing x to the model. Module objects\n",
    "    # override the __call__ operator so you can call them like functions. When\n",
    "    # doing so you pass a Tensor of input data to the Module and it produces\n",
    "    # a Tensor of output data.\n",
    "    y_pred = model(x)\n",
    "\n",
    "    # Compute and print loss. We pass Tensors containing the predicted and true\n",
    "    # values of y, and the loss function returns a Tensor containing the\n",
    "    # loss.\n",
    "    loss = loss_fn(y_pred, y)\n",
    "    if t % 100 == 99:\n",
    "        print(t, loss.item())\n",
    "\n",
    "    # Zero the gradients before running the backward pass.\n",
    "    model.zero_grad()\n",
    "\n",
    "    # Backward pass: compute gradient of the loss with respect to all the learnable\n",
    "    # parameters of the model. Internally, the parameters of each Module are stored\n",
    "    # in Tensors with requires_grad=True, so this call will compute gradients for\n",
    "    # all learnable parameters in the model.\n",
    "    loss.backward()\n",
    "\n",
    "    # Update the weights using gradient descent. Each parameter is a Tensor, so\n",
    "    # we can access its gradients like we did before.\n",
    "    with torch.no_grad():\n",
    "        for param in model.parameters():\n",
    "            param -= learning_rate * param.grad"
   ]
  },
  {
   "cell_type": "code",
   "execution_count": 64,
   "metadata": {},
   "outputs": [
    {
     "data": {
      "text/plain": [
       "[torch.Size([100, 1000]),\n",
       " torch.Size([100]),\n",
       " torch.Size([10, 100]),\n",
       " torch.Size([10])]"
      ]
     },
     "execution_count": 64,
     "metadata": {},
     "output_type": "execute_result"
    }
   ],
   "source": [
    "# weight1, bias1, weight2, bias2\n",
    "[p.size() for p in model.parameters()]"
   ]
  },
  {
   "cell_type": "markdown",
   "metadata": {},
   "source": [
    "## PyTorch: Custom nn Modules\n",
    "\n",
    "Sometimes you will want to specify models that are more complex than a sequence of existing Modules; for these cases you can define your own Modules by subclassing nn.Module and defining a forward which receives input Tensors and produces output Tensors using other modules or other autograd operations on Tensors.\n",
    "In this example we implement our two-layer network as a custom Module subclass:"
   ]
  },
  {
   "cell_type": "code",
   "execution_count": 65,
   "metadata": {},
   "outputs": [],
   "source": [
    "import torch.nn.functional as F\n",
    "\n",
    "class TwoLayerNet(torch.nn.Module):\n",
    "    def __init__(self, D_in, H, D_out):\n",
    "        \"\"\"\n",
    "        In the constructor we instantiate two nn.Linear modules and assign them as\n",
    "        member variables.\n",
    "        \"\"\"\n",
    "        super(TwoLayerNet, self).__init__()\n",
    "        self.linear1 = torch.nn.Linear(D_in, H)\n",
    "        self.linear2 = torch.nn.Linear(H, D_out)\n",
    "\n",
    "    def forward(self, x):\n",
    "        \"\"\"\n",
    "        In the forward function we accept a Tensor of input data and we must return\n",
    "        a Tensor of output data. We can use Modules defined in the constructor as\n",
    "        well as arbitrary operators on Tensors.\n",
    "        \"\"\"\n",
    "        h_relu = F.relu(self.linear1(x))\n",
    "        y_pred = self.linear2(h_relu)\n",
    "        return y_pred"
   ]
  },
  {
   "cell_type": "markdown",
   "metadata": {},
   "source": [
    "## PyTorch: optim\n",
    "\n",
    "Up to this point we have updated the weights of our models by manually mutating the Tensors holding learnable parameters (with torch.no_grad() or .data to avoid tracking history in autograd). This is not a huge burden for simple optimization algorithms like stochastic gradient descent, but in practice we often train neural networks using more sophisticated optimizers like AdaGrad, RMSProp, Adam, etc.\n",
    "The optim package in PyTorch abstracts the idea of an optimization algorithm and provides implementations of commonly used optimization algorithms.\n",
    "In this example we will use the nn package to define our model as before, but we will optimize the model using the Adam algorithm provided by the optim package:\n",
    "\n",
    "see Torch.optim: https://pytorch.org/docs/stable/optim.html"
   ]
  },
  {
   "cell_type": "code",
   "execution_count": 67,
   "metadata": {},
   "outputs": [
    {
     "name": "stdout",
     "output_type": "stream",
     "text": [
      "99 61.02461242675781\n",
      "199 1.0088218450546265\n",
      "299 0.0061424607411026955\n",
      "399 3.12036499963142e-05\n",
      "499 1.3198291526350658e-07\n"
     ]
    }
   ],
   "source": [
    "# N is batch size; D_in is input dimension;\n",
    "# H is hidden dimension; D_out is output dimension.\n",
    "N, D_in, H, D_out = 64, 1000, 100, 10\n",
    "\n",
    "# Create random Tensors to hold inputs and outputs\n",
    "x = torch.randn(N, D_in)\n",
    "y = torch.randn(N, D_out)\n",
    "\n",
    "# MSE loss\n",
    "criterion = torch.nn.MSELoss(reduction='sum')\n",
    "\n",
    "# Construct our model by instantiating the class defined above\n",
    "model = TwoLayerNet(D_in, H, D_out)\n",
    "\n",
    "# Construct our loss function and an Optimizer. The call to model.parameters().\n",
    "# Use the optim package to define an Optimizer that will update the weights of\n",
    "# the model for us. Here we will use Adam; the optim package contains many other\n",
    "# optimization algoriths. The first argument to the Adam constructor tells the\n",
    "# optimizer which Tensors it should update.\n",
    "learning_rate = 1e-4\n",
    "optimizer = torch.optim.Adam(model.parameters(), lr=learning_rate)\n",
    "for t in range(500):\n",
    "    # Forward pass: Compute predicted y by passing x to the model\n",
    "    y_pred = model(x)\n",
    "\n",
    "    # Compute and print loss\n",
    "    loss = criterion(y_pred, y)\n",
    "    if t % 100 == 99:\n",
    "        print(t, loss.item())\n",
    "\n",
    "    # Before the backward pass, use the optimizer object to zero all of the\n",
    "    # gradients for the variables it will update (which are the learnable\n",
    "    # weights of the model). This is because by default, gradients are\n",
    "    # accumulated in buffers( i.e, not overwritten) whenever .backward()\n",
    "    # is called. Checkout docs of torch.autograd.backward for more details.\n",
    "    optimizer.zero_grad()\n",
    "\n",
    "    # Backward pass: compute gradient of the loss with respect to model\n",
    "    # parameters\n",
    "    loss.backward()\n",
    "\n",
    "    # Calling the step function on an Optimizer makes an update to its\n",
    "    # parameters\n",
    "    optimizer.step()"
   ]
  },
  {
   "cell_type": "markdown",
   "metadata": {},
   "source": [
    "## Example II: classification for Iris data"
   ]
  },
  {
   "cell_type": "code",
   "execution_count": 69,
   "metadata": {},
   "outputs": [],
   "source": [
    "from sklearn import datasets\n",
    "\n",
    "iris = datasets.load_iris()\n",
    "X = iris.data\n",
    "y = iris.target"
   ]
  },
  {
   "cell_type": "markdown",
   "metadata": {},
   "source": [
    "DataLoader actually requires is an input that subclasses ``Dataset``. You can either write your own dataset class that subclasses ``Dataset`` or use ``TensorDataset`` or ``from_numpy`` as below:\n",
    "\n",
    "Torch data loader: https://pytorch.org/docs/stable/data.html"
   ]
  },
  {
   "cell_type": "code",
   "execution_count": 70,
   "metadata": {},
   "outputs": [
    {
     "name": "stdout",
     "output_type": "stream",
     "text": [
      "  120 training samples\n",
      "   30 validation samples\n"
     ]
    }
   ],
   "source": [
    "from torch.utils.data import TensorDataset, random_split\n",
    "\n",
    "# transform to torch tensor\n",
    "tensor_x = torch.from_numpy(X)\n",
    "tensor_y = torch.from_numpy(y)\n",
    "\n",
    "dataset = TensorDataset(tensor_x,tensor_y) # create your datset\n",
    "\n",
    "# Calculate the number of samples to include in each set.\n",
    "train_size = int(0.8 * len(dataset))\n",
    "val_size = len(dataset) - train_size\n",
    "\n",
    "# Divide the dataset by randomly selecting samples.\n",
    "train_dataset, val_dataset = random_split(dataset, [train_size, val_size])\n",
    "\n",
    "print('{:>5} training samples'.format(train_size))\n",
    "print('{:>5} validation samples'.format(val_size))"
   ]
  },
  {
   "cell_type": "code",
   "execution_count": 79,
   "metadata": {},
   "outputs": [
    {
     "name": "stdout",
     "output_type": "stream",
     "text": [
      "torch.Size([150, 4])\n",
      "torch.Size([150])\n"
     ]
    }
   ],
   "source": [
    "# training X\n",
    "print(train_dataset.dataset.tensors[0].size())\n",
    "# training y\n",
    "print(train_dataset.dataset.tensors[1].size())"
   ]
  },
  {
   "cell_type": "code",
   "execution_count": 80,
   "metadata": {},
   "outputs": [],
   "source": [
    "from torch.utils.data import DataLoader, RandomSampler, SequentialSampler\n",
    "\n",
    "## DataLoader:\n",
    "# shuffle: set to True to have the data reshuffled at every epoch\n",
    "\n",
    "# sampler: defines the strategy to draw samples from the dataset. \n",
    "#          If specified, shuffle must be False.\n",
    "\n",
    "# drop_last: drop_last (bool, optional) – set to True to drop the last incomplete batch, \n",
    "#            if the dataset size is not divisible by the batch size. \n",
    "#            If False and the size of dataset is not divisible by the batch size, \n",
    "#            then the last batch will be smaller. \n",
    "\n",
    "\n",
    "# The DataLoader needs to know our batch size for training, so we specify it here.\n",
    "batch_size = 10\n",
    "\n",
    "# Create the DataLoaders for our training and validation sets.\n",
    "# We'll take training samples in random order. \n",
    "train_dataloader = DataLoader(\n",
    "            train_dataset,  # The training samples.\n",
    "            shuffle=True,\n",
    "            batch_size = batch_size # Trains with this batch size.\n",
    "        )\n",
    "\n",
    "# For validation the order doesn't matter, so we'll just read them sequentially.\n",
    "validation_dataloader = DataLoader(\n",
    "            val_dataset, # The validation samples.\n",
    "            shuffle=False,\n",
    "            batch_size = batch_size # Evaluate with this batch size.\n",
    "        )"
   ]
  },
  {
   "cell_type": "code",
   "execution_count": 81,
   "metadata": {},
   "outputs": [
    {
     "name": "stdout",
     "output_type": "stream",
     "text": [
      "tensor([[4.9000, 3.1000, 1.5000, 0.1000],\n",
      "        [6.0000, 3.0000, 4.8000, 1.8000],\n",
      "        [6.7000, 3.1000, 5.6000, 2.4000],\n",
      "        [6.5000, 3.2000, 5.1000, 2.0000],\n",
      "        [4.8000, 3.0000, 1.4000, 0.3000],\n",
      "        [6.2000, 3.4000, 5.4000, 2.3000],\n",
      "        [4.9000, 3.1000, 1.5000, 0.2000],\n",
      "        [6.9000, 3.1000, 4.9000, 1.5000],\n",
      "        [6.3000, 2.5000, 4.9000, 1.5000],\n",
      "        [4.4000, 3.2000, 1.3000, 0.2000]], dtype=torch.float64)\n",
      "tensor([1, 0, 0, 2, 1, 2, 0, 0, 0, 2])\n"
     ]
    }
   ],
   "source": [
    "dataiter = iter(train_dataloader)\n",
    "print(dataiter.next()[0]) # 10 samples in a batch\n",
    "print(dataiter.next()[1]) # 10 labels"
   ]
  },
  {
   "cell_type": "code",
   "execution_count": 82,
   "metadata": {},
   "outputs": [
    {
     "data": {
      "text/plain": [
       "12"
      ]
     },
     "execution_count": 82,
     "metadata": {},
     "output_type": "execute_result"
    }
   ],
   "source": [
    "len(train_dataloader) # 12 mini-batches"
   ]
  },
  {
   "cell_type": "code",
   "execution_count": 92,
   "metadata": {},
   "outputs": [
    {
     "name": "stdout",
     "output_type": "stream",
     "text": [
      "\n",
      "======== Epoch 1 / 50 ========\n",
      "Training...\n",
      "Batch     5  of     12. Loss: 1.1045094728469849 \n",
      "Batch    10  of     12. Loss: 1.1502255201339722 \n",
      "\n",
      "Vlidation...\n",
      "Accuracy on the validation set: 33 %\n",
      "\n",
      "======== Epoch 2 / 50 ========\n",
      "Training...\n",
      "Batch     5  of     12. Loss: 1.0560808181762695 \n",
      "Batch    10  of     12. Loss: 0.8901211023330688 \n",
      "\n",
      "Vlidation...\n",
      "Accuracy on the validation set: 70 %\n",
      "\n",
      "======== Epoch 3 / 50 ========\n",
      "Training...\n",
      "Batch     5  of     12. Loss: 0.8612669110298157 \n",
      "Batch    10  of     12. Loss: 0.8992822766304016 \n",
      "\n",
      "Vlidation...\n",
      "Accuracy on the validation set: 76 %\n",
      "\n",
      "======== Epoch 4 / 50 ========\n",
      "Training...\n",
      "Batch     5  of     12. Loss: 0.6194071769714355 \n",
      "Batch    10  of     12. Loss: 0.5989850163459778 \n",
      "\n",
      "Vlidation...\n",
      "Accuracy on the validation set: 70 %\n",
      "\n",
      "======== Epoch 5 / 50 ========\n",
      "Training...\n",
      "Batch     5  of     12. Loss: 0.3615417778491974 \n",
      "Batch    10  of     12. Loss: 0.5690819621086121 \n",
      "\n",
      "Vlidation...\n",
      "Accuracy on the validation set: 93 %\n",
      "\n",
      "======== Epoch 6 / 50 ========\n",
      "Training...\n",
      "Batch     5  of     12. Loss: 0.42826589941978455 \n",
      "Batch    10  of     12. Loss: 0.375386506319046 \n",
      "\n",
      "Vlidation...\n",
      "Accuracy on the validation set: 76 %\n",
      "\n",
      "======== Epoch 7 / 50 ========\n",
      "Training...\n",
      "Batch     5  of     12. Loss: 0.5004082918167114 \n",
      "Batch    10  of     12. Loss: 0.272032767534256 \n",
      "\n",
      "Vlidation...\n",
      "Accuracy on the validation set: 90 %\n",
      "\n",
      "======== Epoch 8 / 50 ========\n",
      "Training...\n",
      "Batch     5  of     12. Loss: 0.2301059067249298 \n",
      "Batch    10  of     12. Loss: 0.1979546844959259 \n",
      "\n",
      "Vlidation...\n",
      "Accuracy on the validation set: 76 %\n",
      "\n",
      "======== Epoch 9 / 50 ========\n",
      "Training...\n",
      "Batch     5  of     12. Loss: 0.150424987077713 \n",
      "Batch    10  of     12. Loss: 0.2559638023376465 \n",
      "\n",
      "Vlidation...\n",
      "Accuracy on the validation set: 96 %\n",
      "\n",
      "======== Epoch 10 / 50 ========\n",
      "Training...\n",
      "Batch     5  of     12. Loss: 0.08164457231760025 \n",
      "Batch    10  of     12. Loss: 0.19949127733707428 \n",
      "\n",
      "Vlidation...\n",
      "Accuracy on the validation set: 96 %\n",
      "\n",
      "======== Epoch 11 / 50 ========\n",
      "Training...\n",
      "Batch     5  of     12. Loss: 0.4847582280635834 \n",
      "Batch    10  of     12. Loss: 0.4828489422798157 \n",
      "\n",
      "Vlidation...\n",
      "Accuracy on the validation set: 73 %\n",
      "\n",
      "======== Epoch 12 / 50 ========\n",
      "Training...\n",
      "Batch     5  of     12. Loss: 0.45444726943969727 \n",
      "Batch    10  of     12. Loss: 0.1333596557378769 \n",
      "\n",
      "Vlidation...\n",
      "Accuracy on the validation set: 96 %\n",
      "\n",
      "======== Epoch 13 / 50 ========\n",
      "Training...\n",
      "Batch     5  of     12. Loss: 0.2207539975643158 \n",
      "Batch    10  of     12. Loss: 0.14093229174613953 \n",
      "\n",
      "Vlidation...\n",
      "Accuracy on the validation set: 96 %\n",
      "\n",
      "======== Epoch 14 / 50 ========\n",
      "Training...\n",
      "Batch     5  of     12. Loss: 0.06843018531799316 \n",
      "Batch    10  of     12. Loss: 0.1546407788991928 \n",
      "\n",
      "Vlidation...\n",
      "Accuracy on the validation set: 93 %\n",
      "\n",
      "======== Epoch 15 / 50 ========\n",
      "Training...\n",
      "Batch     5  of     12. Loss: 0.09755586832761765 \n",
      "Batch    10  of     12. Loss: 0.23880472779273987 \n",
      "\n",
      "Vlidation...\n",
      "Accuracy on the validation set: 93 %\n",
      "\n",
      "======== Epoch 16 / 50 ========\n",
      "Training...\n",
      "Batch     5  of     12. Loss: 0.12420403957366943 \n",
      "Batch    10  of     12. Loss: 0.11730648577213287 \n",
      "\n",
      "Vlidation...\n",
      "Accuracy on the validation set: 76 %\n",
      "\n",
      "======== Epoch 17 / 50 ========\n",
      "Training...\n",
      "Batch     5  of     12. Loss: 0.13362841308116913 \n",
      "Batch    10  of     12. Loss: 0.08108945190906525 \n",
      "\n",
      "Vlidation...\n",
      "Accuracy on the validation set: 93 %\n",
      "\n",
      "======== Epoch 18 / 50 ========\n",
      "Training...\n",
      "Batch     5  of     12. Loss: 0.12964455783367157 \n",
      "Batch    10  of     12. Loss: 0.04197373986244202 \n",
      "\n",
      "Vlidation...\n",
      "Accuracy on the validation set: 93 %\n",
      "\n",
      "======== Epoch 19 / 50 ========\n",
      "Training...\n",
      "Batch     5  of     12. Loss: 0.15543588995933533 \n",
      "Batch    10  of     12. Loss: 0.33164718747138977 \n",
      "\n",
      "Vlidation...\n",
      "Accuracy on the validation set: 96 %\n",
      "\n",
      "======== Epoch 20 / 50 ========\n",
      "Training...\n",
      "Batch     5  of     12. Loss: 0.033020954579114914 \n",
      "Batch    10  of     12. Loss: 0.22404679656028748 \n",
      "\n",
      "Vlidation...\n",
      "Accuracy on the validation set: 93 %\n",
      "\n",
      "======== Epoch 21 / 50 ========\n",
      "Training...\n",
      "Batch     5  of     12. Loss: 0.1079053059220314 \n",
      "Batch    10  of     12. Loss: 0.04984341561794281 \n",
      "\n",
      "Vlidation...\n",
      "Accuracy on the validation set: 96 %\n",
      "\n",
      "======== Epoch 22 / 50 ========\n",
      "Training...\n",
      "Batch     5  of     12. Loss: 0.07460891455411911 \n",
      "Batch    10  of     12. Loss: 0.07348243147134781 \n",
      "\n",
      "Vlidation...\n",
      "Accuracy on the validation set: 96 %\n",
      "\n",
      "======== Epoch 23 / 50 ========\n",
      "Training...\n",
      "Batch     5  of     12. Loss: 0.0939057469367981 \n",
      "Batch    10  of     12. Loss: 0.06914068013429642 \n",
      "\n",
      "Vlidation...\n",
      "Accuracy on the validation set: 83 %\n",
      "\n",
      "======== Epoch 24 / 50 ========\n",
      "Training...\n",
      "Batch     5  of     12. Loss: 0.015860751271247864 \n",
      "Batch    10  of     12. Loss: 0.1727963387966156 \n",
      "\n",
      "Vlidation...\n",
      "Accuracy on the validation set: 96 %\n",
      "\n",
      "======== Epoch 25 / 50 ========\n",
      "Training...\n",
      "Batch     5  of     12. Loss: 0.24753037095069885 \n",
      "Batch    10  of     12. Loss: 0.1903887391090393 \n",
      "\n",
      "Vlidation...\n",
      "Accuracy on the validation set: 93 %\n",
      "\n",
      "======== Epoch 26 / 50 ========\n",
      "Training...\n",
      "Batch     5  of     12. Loss: 0.09162021428346634 \n",
      "Batch    10  of     12. Loss: 0.05094156414270401 \n",
      "\n",
      "Vlidation...\n",
      "Accuracy on the validation set: 96 %\n",
      "\n",
      "======== Epoch 27 / 50 ========\n",
      "Training...\n",
      "Batch     5  of     12. Loss: 0.10566030442714691 \n",
      "Batch    10  of     12. Loss: 0.03333946689963341 \n",
      "\n",
      "Vlidation...\n",
      "Accuracy on the validation set: 80 %\n",
      "\n",
      "======== Epoch 28 / 50 ========\n",
      "Training...\n",
      "Batch     5  of     12. Loss: 0.24921143054962158 \n",
      "Batch    10  of     12. Loss: 0.03618130832910538 \n",
      "\n",
      "Vlidation...\n",
      "Accuracy on the validation set: 80 %\n",
      "\n",
      "======== Epoch 29 / 50 ========\n",
      "Training...\n",
      "Batch     5  of     12. Loss: 0.05776325985789299 \n",
      "Batch    10  of     12. Loss: 0.3106326460838318 \n",
      "\n",
      "Vlidation...\n",
      "Accuracy on the validation set: 83 %\n",
      "\n",
      "======== Epoch 30 / 50 ========\n",
      "Training...\n",
      "Batch     5  of     12. Loss: 0.1085485965013504 \n",
      "Batch    10  of     12. Loss: 0.23357760906219482 \n",
      "\n",
      "Vlidation...\n",
      "Accuracy on the validation set: 93 %\n",
      "\n",
      "======== Epoch 31 / 50 ========\n",
      "Training...\n",
      "Batch     5  of     12. Loss: 0.13338810205459595 \n",
      "Batch    10  of     12. Loss: 0.02620813623070717 \n",
      "\n",
      "Vlidation...\n",
      "Accuracy on the validation set: 96 %\n",
      "\n",
      "======== Epoch 32 / 50 ========\n",
      "Training...\n",
      "Batch     5  of     12. Loss: 0.09512411057949066 \n",
      "Batch    10  of     12. Loss: 0.021644584834575653 \n",
      "\n",
      "Vlidation...\n",
      "Accuracy on the validation set: 96 %\n",
      "\n",
      "======== Epoch 33 / 50 ========\n",
      "Training...\n",
      "Batch     5  of     12. Loss: 0.10120666027069092 \n",
      "Batch    10  of     12. Loss: 0.03281792998313904 \n",
      "\n",
      "Vlidation...\n",
      "Accuracy on the validation set: 96 %\n",
      "\n",
      "======== Epoch 34 / 50 ========\n",
      "Training...\n",
      "Batch     5  of     12. Loss: 0.04647260531783104 \n",
      "Batch    10  of     12. Loss: 0.05163494497537613 \n",
      "\n",
      "Vlidation...\n",
      "Accuracy on the validation set: 90 %\n",
      "\n",
      "======== Epoch 35 / 50 ========\n",
      "Training...\n",
      "Batch     5  of     12. Loss: 0.05287861078977585 \n",
      "Batch    10  of     12. Loss: 0.10834018886089325 \n",
      "\n",
      "Vlidation...\n",
      "Accuracy on the validation set: 96 %\n",
      "\n",
      "======== Epoch 36 / 50 ========\n",
      "Training...\n",
      "Batch     5  of     12. Loss: 0.5166401863098145 \n",
      "Batch    10  of     12. Loss: 0.08970539271831512 \n",
      "\n",
      "Vlidation...\n",
      "Accuracy on the validation set: 96 %\n",
      "\n",
      "======== Epoch 37 / 50 ========\n",
      "Training...\n",
      "Batch     5  of     12. Loss: 0.059391655027866364 \n",
      "Batch    10  of     12. Loss: 0.3651098608970642 \n",
      "\n",
      "Vlidation...\n",
      "Accuracy on the validation set: 93 %\n",
      "\n",
      "======== Epoch 38 / 50 ========\n",
      "Training...\n",
      "Batch     5  of     12. Loss: 0.013632011599838734 \n",
      "Batch    10  of     12. Loss: 0.029951568692922592 \n",
      "\n",
      "Vlidation...\n",
      "Accuracy on the validation set: 96 %\n",
      "\n",
      "======== Epoch 39 / 50 ========\n",
      "Training...\n",
      "Batch     5  of     12. Loss: 0.01476181298494339 \n",
      "Batch    10  of     12. Loss: 0.28635555505752563 \n",
      "\n",
      "Vlidation...\n",
      "Accuracy on the validation set: 96 %\n",
      "\n",
      "======== Epoch 40 / 50 ========\n",
      "Training...\n",
      "Batch     5  of     12. Loss: 0.04879222437739372 \n",
      "Batch    10  of     12. Loss: 0.27263668179512024 \n",
      "\n",
      "Vlidation...\n",
      "Accuracy on the validation set: 96 %\n",
      "\n",
      "======== Epoch 41 / 50 ========\n",
      "Training...\n",
      "Batch     5  of     12. Loss: 0.09109636396169662 \n",
      "Batch    10  of     12. Loss: 0.011819800361990929 \n",
      "\n",
      "Vlidation...\n",
      "Accuracy on the validation set: 96 %\n",
      "\n",
      "======== Epoch 42 / 50 ========\n",
      "Training...\n",
      "Batch     5  of     12. Loss: 0.44355568289756775 \n",
      "Batch    10  of     12. Loss: 0.02557983063161373 \n",
      "\n",
      "Vlidation...\n",
      "Accuracy on the validation set: 96 %\n",
      "\n",
      "======== Epoch 43 / 50 ========\n",
      "Training...\n",
      "Batch     5  of     12. Loss: 0.07829603552818298 \n",
      "Batch    10  of     12. Loss: 0.11613531410694122 \n",
      "\n",
      "Vlidation...\n",
      "Accuracy on the validation set: 93 %\n",
      "\n",
      "======== Epoch 44 / 50 ========\n",
      "Training...\n",
      "Batch     5  of     12. Loss: 0.06591644138097763 \n",
      "Batch    10  of     12. Loss: 0.16159583628177643 \n",
      "\n",
      "Vlidation...\n",
      "Accuracy on the validation set: 96 %\n",
      "\n",
      "======== Epoch 45 / 50 ========\n",
      "Training...\n",
      "Batch     5  of     12. Loss: 0.004688527435064316 \n",
      "Batch    10  of     12. Loss: 0.17525401711463928 \n"
     ]
    },
    {
     "name": "stdout",
     "output_type": "stream",
     "text": [
      "\n",
      "Vlidation...\n",
      "Accuracy on the validation set: 86 %\n",
      "\n",
      "======== Epoch 46 / 50 ========\n",
      "Training...\n",
      "Batch     5  of     12. Loss: 0.7054948210716248 \n",
      "Batch    10  of     12. Loss: 0.08606778085231781 \n",
      "\n",
      "Vlidation...\n",
      "Accuracy on the validation set: 83 %\n",
      "\n",
      "======== Epoch 47 / 50 ========\n",
      "Training...\n",
      "Batch     5  of     12. Loss: 0.017275186255574226 \n",
      "Batch    10  of     12. Loss: 0.03674527257680893 \n",
      "\n",
      "Vlidation...\n",
      "Accuracy on the validation set: 96 %\n",
      "\n",
      "======== Epoch 48 / 50 ========\n",
      "Training...\n",
      "Batch     5  of     12. Loss: 0.05112684890627861 \n",
      "Batch    10  of     12. Loss: 0.09253083169460297 \n",
      "\n",
      "Vlidation...\n",
      "Accuracy on the validation set: 96 %\n",
      "\n",
      "======== Epoch 49 / 50 ========\n",
      "Training...\n",
      "Batch     5  of     12. Loss: 0.07818500697612762 \n",
      "Batch    10  of     12. Loss: 0.039716076105833054 \n",
      "\n",
      "Vlidation...\n",
      "Accuracy on the validation set: 96 %\n",
      "\n",
      "======== Epoch 50 / 50 ========\n",
      "Training...\n",
      "Batch     5  of     12. Loss: 0.08148541301488876 \n",
      "Batch    10  of     12. Loss: 0.03584938868880272 \n",
      "\n",
      "Vlidation...\n",
      "Accuracy on the validation set: 93 %\n"
     ]
    }
   ],
   "source": [
    "# Construct our model by instantiating the class defined above\n",
    "model = TwoLayerNet(D_in=4, H=10, D_out=3)\n",
    "\n",
    "# Construct our loss function and an Optimizer. The call to model.parameters().\n",
    "# Use the optim package to define an Optimizer that will update the weights of\n",
    "# the model for us. Here we will use Adam; the optim package contains many other\n",
    "# optimization algoriths. The first argument to the Adam constructor tells the\n",
    "# optimizer which Tensors it should update.\n",
    "learning_rate = 1e-4\n",
    "\n",
    "# cross entropy loss for classification\n",
    "criterion = torch.nn.CrossEntropyLoss()\n",
    "optimizer = torch.optim.SGD(model.parameters(), lr=0.01, momentum=0.9)\n",
    "\n",
    "\n",
    "train_loss_record=[]  # record training loss for each epoch\n",
    "valid_loss_record=[]  # record validation loss for each epoch\n",
    "\n",
    "\n",
    "epochs=50 # number of epochs\n",
    "\n",
    "for epoch in range(epochs):  # loop over the dataset multiple times\n",
    "    \n",
    "    print(\"\")\n",
    "    print('======== Epoch {:} / {:} ========'.format(epoch + 1, epochs))\n",
    "    print('Training...')\n",
    "    \n",
    "    avg_train_loss=0 # record average loss in training\n",
    "    \n",
    "    for i, data in enumerate(train_dataloader, 0): ## enumerate(iterable, start=0)\n",
    "        # get the inputs; data is a list of [inputs, labels]\n",
    "        inputs, labels = data\n",
    "\n",
    "        # zero the parameter gradients\n",
    "        # for each barch, reset gradients to 0\n",
    "        model.zero_grad()\n",
    "\n",
    "        # forward + backward + optimize\n",
    "        outputs = model(inputs.float()) # from torch.DoubleTensor to torch.FloatTensor\n",
    "        loss = criterion(outputs, labels)\n",
    "        loss.backward()\n",
    "        optimizer.step()\n",
    "\n",
    "        \n",
    "        if i % 5==4: # print statistics every 5 mini-batches\n",
    "            print('Batch {:>5,}  of  {:>5,}. Loss: {:>5,} '\n",
    "                  .format(i+1, len(train_dataloader), loss.item()))\n",
    "        \n",
    "        avg_train_loss+=loss.item()/len(train_dataloader) # total loss\n",
    "    \n",
    "    train_loss_record.append(avg_train_loss)\n",
    "\n",
    "    \n",
    "    print(\"\")\n",
    "    print('Vlidation...')\n",
    "    \n",
    "    avg_valid_loss=0 # record average loss in validation\n",
    "    \n",
    "    correct = 0 # record accuracy for each epoch\n",
    "    total = 0\n",
    "    \n",
    "    with torch.no_grad():\n",
    "        \n",
    "        for data in validation_dataloader:\n",
    "            inputs, labels = data\n",
    "            outputs = model(inputs.float()) # prediction\n",
    "            \n",
    "            _, predicted = torch.max(outputs.data, 1) # make a decision (maxmization , indices)\n",
    "            total += labels.size(0)\n",
    "            correct += (predicted == labels).sum().item() # calculate classification accuracy\n",
    "            \n",
    "            loss = criterion(outputs, labels)\n",
    "            avg_valid_loss+=loss.item()/len(validation_dataloader) # total loss\n",
    "            \n",
    "    valid_loss_record.append(avg_valid_loss)\n",
    "            \n",
    "    print('Accuracy on the validation set: %d %%' % (100 * correct / total))\n",
    "\n"
   ]
  },
  {
   "cell_type": "code",
   "execution_count": 93,
   "metadata": {},
   "outputs": [
    {
     "data": {
      "image/png": "[encoded data removed]",
      "text/plain": [
       "<Figure size 432x288 with 1 Axes>"
      ]
     },
     "metadata": {
      "needs_background": "light"
     },
     "output_type": "display_data"
    }
   ],
   "source": [
    "import matplotlib.pyplot as plt\n",
    "\n",
    "plt.plot(range(1,epochs+1),train_loss_record, label='traning loss')\n",
    "plt.plot(range(1,epochs+1),valid_loss_record, label='validation loss')\n",
    "\n",
    "# Label the plot.\n",
    "plt.title(\"Training & Validation Loss\")\n",
    "plt.xlabel(\"Epoch\")\n",
    "plt.ylabel(\"Loss\")\n",
    "plt.legend()\n",
    "plt.show()"
   ]
  },
  {
   "cell_type": "markdown",
   "metadata": {},
   "source": [
    "### Save and load the model parameters."
   ]
  },
  {
   "cell_type": "code",
   "execution_count": 86,
   "metadata": {},
   "outputs": [
    {
     "data": {
      "text/plain": [
       "OrderedDict([('linear1.weight',\n",
       "              tensor([[ 0.0727, -0.2039, -0.2838,  0.2216],\n",
       "                      [ 0.0116, -0.9105,  1.4379,  0.4981],\n",
       "                      [ 0.6155,  0.1180, -0.5526, -0.6396],\n",
       "                      [ 0.1495, -0.3044, -0.5369, -0.1404],\n",
       "                      [-0.1052, -0.3321, -0.3334, -0.3696],\n",
       "                      [-0.2437, -0.3368,  0.2952,  0.4449],\n",
       "                      [ 1.1162,  1.2871, -1.3681, -1.6032],\n",
       "                      [-0.3778, -0.0842,  0.0977, -0.4945],\n",
       "                      [-1.0613, -0.7235,  1.5827,  1.8436],\n",
       "                      [ 0.0266, -0.2149, -0.0460, -0.0877]])),\n",
       "             ('linear1.bias',\n",
       "              tensor([-0.4235, -0.3707,  0.4669, -0.2685,  0.4282, -0.3375,  0.3724,  0.2342,\n",
       "                      -0.6877,  0.2545])),\n",
       "             ('linear2.weight',\n",
       "              tensor([[-0.2278, -1.4915,  0.3709,  0.0313, -0.0137, -0.2035,  0.8442, -0.1131,\n",
       "                       -0.0692, -0.2706],\n",
       "                      [-0.0438,  0.7740,  0.2575, -0.0115,  0.1661, -0.0839,  0.1223, -0.0770,\n",
       "                       -0.6520,  0.2665],\n",
       "                      [-0.2792,  1.1692, -0.3884,  0.0917, -0.1510, -0.2052, -1.4468, -0.2266,\n",
       "                        1.0081, -0.3057]])),\n",
       "             ('linear2.bias', tensor([ 0.2615,  0.2106, -0.7628]))])"
      ]
     },
     "execution_count": 86,
     "metadata": {},
     "output_type": "execute_result"
    }
   ],
   "source": [
    "model.state_dict()"
   ]
  },
  {
   "cell_type": "code",
   "execution_count": 163,
   "metadata": {},
   "outputs": [],
   "source": [
    "PATH = './iris_network.pth'\n",
    "torch.save(model.state_dict(), PATH)"
   ]
  },
  {
   "cell_type": "markdown",
   "metadata": {},
   "source": [
    "Next, let's load back in our saved model."
   ]
  },
  {
   "cell_type": "code",
   "execution_count": 165,
   "metadata": {},
   "outputs": [
    {
     "data": {
      "text/plain": [
       "<All keys matched successfully>"
      ]
     },
     "execution_count": 165,
     "metadata": {},
     "output_type": "execute_result"
    }
   ],
   "source": [
    "model = TwoLayerNet(D_in=4, H=10, D_out=3)\n",
    "model.load_state_dict(torch.load(PATH))"
   ]
  },
  {
   "cell_type": "code",
   "execution_count": null,
   "metadata": {},
   "outputs": [],
   "source": []
  }
 ],
 "metadata": {
  "kernelspec": {
   "display_name": "Python 3",
   "language": "python",
   "name": "python3"
  },
  "language_info": {
   "codemirror_mode": {
    "name": "ipython",
    "version": 3
   },
   "file_extension": ".py",
   "mimetype": "text/x-python",
   "name": "python",
   "nbconvert_exporter": "python",
   "pygments_lexer": "ipython3",
   "version": "3.8.5"
  }
 },
 "nbformat": 4,
 "nbformat_minor": 1
}
